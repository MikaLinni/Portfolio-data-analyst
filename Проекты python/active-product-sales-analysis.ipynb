{
 "cells": [
  {
   "cell_type": "markdown",
   "id": "5376f00e",
   "metadata": {
    "papermill": {
     "duration": 0.006679,
     "end_time": "2025-03-25T14:12:46.860536",
     "exception": false,
     "start_time": "2025-03-25T14:12:46.853857",
     "status": "completed"
    },
    "tags": []
   },
   "source": [
    "# **Анализ активных продаж продукции в Python**"
   ]
  },
  {
   "cell_type": "markdown",
   "id": "405dd4ac",
   "metadata": {
    "papermill": {
     "duration": 0.005612,
     "end_time": "2025-03-25T14:12:46.872214",
     "exception": false,
     "start_time": "2025-03-25T14:12:46.866602",
     "status": "completed"
    },
    "tags": []
   },
   "source": [
    "Импортируем библиотеки"
   ]
  },
  {
   "cell_type": "code",
   "execution_count": 1,
   "id": "37b84530",
   "metadata": {
    "_cell_guid": "b1076dfc-b9ad-4769-8c92-a6c4dae69d19",
    "_uuid": "8f2839f25d086af736a60e9eeb907d3b93b6e0e5",
    "execution": {
     "iopub.execute_input": "2025-03-25T14:12:46.885088Z",
     "iopub.status.busy": "2025-03-25T14:12:46.884762Z",
     "iopub.status.idle": "2025-03-25T14:12:49.183556Z",
     "shell.execute_reply": "2025-03-25T14:12:49.182443Z"
    },
    "papermill": {
     "duration": 2.307337,
     "end_time": "2025-03-25T14:12:49.185363",
     "exception": false,
     "start_time": "2025-03-25T14:12:46.878026",
     "status": "completed"
    },
    "tags": []
   },
   "outputs": [
    {
     "name": "stdout",
     "output_type": "stream",
     "text": [
      "/kaggle/input/product-sales/Order_details-masked.csv\n"
     ]
    }
   ],
   "source": [
    "import numpy as np \n",
    "import pandas as pd \n",
    "import matplotlib.pyplot as plt\n",
    "import seaborn as sns\n",
    "\n",
    "import os\n",
    "for dirname, _, filenames in os.walk('/kaggle/input'):\n",
    "    for filename in filenames:\n",
    "        print(os.path.join(dirname, filename))\n"
   ]
  },
  {
   "cell_type": "markdown",
   "id": "01bcdae4",
   "metadata": {
    "papermill": {
     "duration": 0.006211,
     "end_time": "2025-03-25T14:12:49.197988",
     "exception": false,
     "start_time": "2025-03-25T14:12:49.191777",
     "status": "completed"
    },
    "tags": []
   },
   "source": [
    "Импортируем файл"
   ]
  },
  {
   "cell_type": "code",
   "execution_count": 2,
   "id": "0157c2cc",
   "metadata": {
    "execution": {
     "iopub.execute_input": "2025-03-25T14:12:49.211282Z",
     "iopub.status.busy": "2025-03-25T14:12:49.210802Z",
     "iopub.status.idle": "2025-03-25T14:12:49.228867Z",
     "shell.execute_reply": "2025-03-25T14:12:49.228028Z"
    },
    "papermill": {
     "duration": 0.026631,
     "end_time": "2025-03-25T14:12:49.230613",
     "exception": false,
     "start_time": "2025-03-25T14:12:49.203982",
     "status": "completed"
    },
    "tags": []
   },
   "outputs": [],
   "source": [
    "df = pd.read_csv('/kaggle/input/product-sales/Order_details-masked.csv')"
   ]
  },
  {
   "cell_type": "markdown",
   "id": "f02e46b8",
   "metadata": {
    "papermill": {
     "duration": 0.005938,
     "end_time": "2025-03-25T14:12:49.242965",
     "exception": false,
     "start_time": "2025-03-25T14:12:49.237027",
     "status": "completed"
    },
    "tags": []
   },
   "source": [
    "Смотрим первые 15 строк таблицы"
   ]
  },
  {
   "cell_type": "markdown",
   "id": "e4ca9154",
   "metadata": {
    "papermill": {
     "duration": 0.005748,
     "end_time": "2025-03-25T14:12:49.254658",
     "exception": false,
     "start_time": "2025-03-25T14:12:49.248910",
     "status": "completed"
    },
    "tags": []
   },
   "source": [
    "# Проверка и очистка данных"
   ]
  },
  {
   "cell_type": "code",
   "execution_count": 3,
   "id": "fd04250b",
   "metadata": {
    "execution": {
     "iopub.execute_input": "2025-03-25T14:12:49.268022Z",
     "iopub.status.busy": "2025-03-25T14:12:49.267686Z",
     "iopub.status.idle": "2025-03-25T14:12:49.291678Z",
     "shell.execute_reply": "2025-03-25T14:12:49.290808Z"
    },
    "papermill": {
     "duration": 0.032526,
     "end_time": "2025-03-25T14:12:49.293166",
     "exception": false,
     "start_time": "2025-03-25T14:12:49.260640",
     "status": "completed"
    },
    "tags": []
   },
   "outputs": [
    {
     "data": {
      "text/html": [
       "<div>\n",
       "<style scoped>\n",
       "    .dataframe tbody tr th:only-of-type {\n",
       "        vertical-align: middle;\n",
       "    }\n",
       "\n",
       "    .dataframe tbody tr th {\n",
       "        vertical-align: top;\n",
       "    }\n",
       "\n",
       "    .dataframe thead th {\n",
       "        text-align: right;\n",
       "    }\n",
       "</style>\n",
       "<table border=\"1\" class=\"dataframe\">\n",
       "  <thead>\n",
       "    <tr style=\"text-align: right;\">\n",
       "      <th></th>\n",
       "      <th>Name</th>\n",
       "      <th>Email</th>\n",
       "      <th>Product</th>\n",
       "      <th>Transaction Date</th>\n",
       "    </tr>\n",
       "  </thead>\n",
       "  <tbody>\n",
       "    <tr>\n",
       "      <th>0</th>\n",
       "      <td>PERSON_1</td>\n",
       "      <td>PERSON_1@gmail.com</td>\n",
       "      <td>PRODUCT_75</td>\n",
       "      <td>01/03/2021 00:47:26</td>\n",
       "    </tr>\n",
       "    <tr>\n",
       "      <th>1</th>\n",
       "      <td>PERSON_2</td>\n",
       "      <td>PERSON_2@tataprojects.com</td>\n",
       "      <td>PRODUCT_75</td>\n",
       "      <td>01/03/2021 02:04:07</td>\n",
       "    </tr>\n",
       "    <tr>\n",
       "      <th>2</th>\n",
       "      <td>PERSON_3</td>\n",
       "      <td>PERSON_3@gmail.com</td>\n",
       "      <td>PRODUCT_63</td>\n",
       "      <td>01/03/2021 09:10:43</td>\n",
       "    </tr>\n",
       "    <tr>\n",
       "      <th>3</th>\n",
       "      <td>PERSON_4</td>\n",
       "      <td>PERSON_4@gmail.com</td>\n",
       "      <td>PRODUCT_63</td>\n",
       "      <td>01/03/2021 09:49:48</td>\n",
       "    </tr>\n",
       "    <tr>\n",
       "      <th>4</th>\n",
       "      <td>PERSON_5</td>\n",
       "      <td>PERSON_5@gmail.com</td>\n",
       "      <td>PRODUCT_34,PRODUCT_86,PRODUCT_57,PRODUCT_89</td>\n",
       "      <td>01/03/2021 10:56:46</td>\n",
       "    </tr>\n",
       "    <tr>\n",
       "      <th>5</th>\n",
       "      <td>PERSON_6</td>\n",
       "      <td>PERSON_6@gmail.com</td>\n",
       "      <td>PRODUCT_34,PRODUCT_66,PRODUCT_58,PRODUCT_83</td>\n",
       "      <td>01/03/2021 11:06:34</td>\n",
       "    </tr>\n",
       "    <tr>\n",
       "      <th>6</th>\n",
       "      <td>PERSON_7</td>\n",
       "      <td>PERSON_7@gmail.com</td>\n",
       "      <td>PRODUCT_75</td>\n",
       "      <td>01/03/2021 12:02:00</td>\n",
       "    </tr>\n",
       "    <tr>\n",
       "      <th>7</th>\n",
       "      <td>PERSON_8</td>\n",
       "      <td>PERSON_8@gmail.com</td>\n",
       "      <td>PRODUCT_63,PRODUCT_90,PRODUCT_27,PRODUCT_5</td>\n",
       "      <td>01/03/2021 12:31:10</td>\n",
       "    </tr>\n",
       "    <tr>\n",
       "      <th>8</th>\n",
       "      <td>PERSON_9</td>\n",
       "      <td>PERSON_9@outlook.com</td>\n",
       "      <td>PRODUCT_26</td>\n",
       "      <td>01/03/2021 12:51:46</td>\n",
       "    </tr>\n",
       "    <tr>\n",
       "      <th>9</th>\n",
       "      <td>PERSON_10</td>\n",
       "      <td>PERSON_10@gmail.com</td>\n",
       "      <td>PRODUCT_63</td>\n",
       "      <td>01/03/2021 12:52:29</td>\n",
       "    </tr>\n",
       "    <tr>\n",
       "      <th>10</th>\n",
       "      <td>PERSON_11</td>\n",
       "      <td>PERSON_11@gmail.com</td>\n",
       "      <td>PRODUCT_63</td>\n",
       "      <td>01/03/2021 13:15:39</td>\n",
       "    </tr>\n",
       "    <tr>\n",
       "      <th>11</th>\n",
       "      <td>PERSON_12</td>\n",
       "      <td>PERSON_12@gmail.com</td>\n",
       "      <td>PRODUCT_5,PRODUCT_34</td>\n",
       "      <td>01/03/2021 13:37:45</td>\n",
       "    </tr>\n",
       "    <tr>\n",
       "      <th>12</th>\n",
       "      <td>PERSON_13</td>\n",
       "      <td>PERSON_13@gmail.com</td>\n",
       "      <td>PRODUCT_84,PRODUCT_27</td>\n",
       "      <td>01/03/2021 14:17:44</td>\n",
       "    </tr>\n",
       "    <tr>\n",
       "      <th>13</th>\n",
       "      <td>PERSON_14</td>\n",
       "      <td>PERSON_14@gmail.com</td>\n",
       "      <td>PRODUCT_27</td>\n",
       "      <td>01/03/2021 14:27:49</td>\n",
       "    </tr>\n",
       "    <tr>\n",
       "      <th>14</th>\n",
       "      <td>PERSON_15</td>\n",
       "      <td>PERSON_15@gmail.com</td>\n",
       "      <td>PRODUCT_25</td>\n",
       "      <td>01/03/2021 14:37:16</td>\n",
       "    </tr>\n",
       "  </tbody>\n",
       "</table>\n",
       "</div>"
      ],
      "text/plain": [
       "         Name                      Email  \\\n",
       "0    PERSON_1         PERSON_1@gmail.com   \n",
       "1    PERSON_2  PERSON_2@tataprojects.com   \n",
       "2    PERSON_3         PERSON_3@gmail.com   \n",
       "3    PERSON_4         PERSON_4@gmail.com   \n",
       "4    PERSON_5         PERSON_5@gmail.com   \n",
       "5    PERSON_6         PERSON_6@gmail.com   \n",
       "6    PERSON_7         PERSON_7@gmail.com   \n",
       "7    PERSON_8         PERSON_8@gmail.com   \n",
       "8    PERSON_9       PERSON_9@outlook.com   \n",
       "9   PERSON_10        PERSON_10@gmail.com   \n",
       "10  PERSON_11        PERSON_11@gmail.com   \n",
       "11  PERSON_12        PERSON_12@gmail.com   \n",
       "12  PERSON_13        PERSON_13@gmail.com   \n",
       "13  PERSON_14        PERSON_14@gmail.com   \n",
       "14  PERSON_15        PERSON_15@gmail.com   \n",
       "\n",
       "                                        Product     Transaction Date  \n",
       "0                                    PRODUCT_75  01/03/2021 00:47:26  \n",
       "1                                    PRODUCT_75  01/03/2021 02:04:07  \n",
       "2                                    PRODUCT_63  01/03/2021 09:10:43  \n",
       "3                                    PRODUCT_63  01/03/2021 09:49:48  \n",
       "4   PRODUCT_34,PRODUCT_86,PRODUCT_57,PRODUCT_89  01/03/2021 10:56:46  \n",
       "5   PRODUCT_34,PRODUCT_66,PRODUCT_58,PRODUCT_83  01/03/2021 11:06:34  \n",
       "6                                    PRODUCT_75  01/03/2021 12:02:00  \n",
       "7    PRODUCT_63,PRODUCT_90,PRODUCT_27,PRODUCT_5  01/03/2021 12:31:10  \n",
       "8                                    PRODUCT_26  01/03/2021 12:51:46  \n",
       "9                                    PRODUCT_63  01/03/2021 12:52:29  \n",
       "10                                   PRODUCT_63  01/03/2021 13:15:39  \n",
       "11                         PRODUCT_5,PRODUCT_34  01/03/2021 13:37:45  \n",
       "12                        PRODUCT_84,PRODUCT_27  01/03/2021 14:17:44  \n",
       "13                                   PRODUCT_27  01/03/2021 14:27:49  \n",
       "14                                   PRODUCT_25  01/03/2021 14:37:16  "
      ]
     },
     "execution_count": 3,
     "metadata": {},
     "output_type": "execute_result"
    }
   ],
   "source": [
    "df.head(15)"
   ]
  },
  {
   "cell_type": "markdown",
   "id": "197280b9",
   "metadata": {
    "papermill": {
     "duration": 0.006138,
     "end_time": "2025-03-25T14:12:49.305861",
     "exception": false,
     "start_time": "2025-03-25T14:12:49.299723",
     "status": "completed"
    },
    "tags": []
   },
   "source": [
    "Получим общую информацию о таблице"
   ]
  },
  {
   "cell_type": "code",
   "execution_count": 4,
   "id": "a04d201e",
   "metadata": {
    "execution": {
     "iopub.execute_input": "2025-03-25T14:12:49.319515Z",
     "iopub.status.busy": "2025-03-25T14:12:49.319143Z",
     "iopub.status.idle": "2025-03-25T14:12:49.340613Z",
     "shell.execute_reply": "2025-03-25T14:12:49.339505Z"
    },
    "papermill": {
     "duration": 0.029975,
     "end_time": "2025-03-25T14:12:49.342071",
     "exception": false,
     "start_time": "2025-03-25T14:12:49.312096",
     "status": "completed"
    },
    "tags": []
   },
   "outputs": [
    {
     "name": "stdout",
     "output_type": "stream",
     "text": [
      "<class 'pandas.core.frame.DataFrame'>\n",
      "RangeIndex: 581 entries, 0 to 580\n",
      "Data columns (total 4 columns):\n",
      " #   Column            Non-Null Count  Dtype \n",
      "---  ------            --------------  ----- \n",
      " 0   Name              581 non-null    object\n",
      " 1   Email             581 non-null    object\n",
      " 2   Product           581 non-null    object\n",
      " 3   Transaction Date  581 non-null    object\n",
      "dtypes: object(4)\n",
      "memory usage: 18.3+ KB\n"
     ]
    }
   ],
   "source": [
    "df.info()"
   ]
  },
  {
   "cell_type": "markdown",
   "id": "3b4701a0",
   "metadata": {
    "papermill": {
     "duration": 0.006063,
     "end_time": "2025-03-25T14:12:49.354592",
     "exception": false,
     "start_time": "2025-03-25T14:12:49.348529",
     "status": "completed"
    },
    "tags": []
   },
   "source": [
    "Проверим на количество пропущенных элементов и выбросов"
   ]
  },
  {
   "cell_type": "code",
   "execution_count": 5,
   "id": "d7bbe062",
   "metadata": {
    "execution": {
     "iopub.execute_input": "2025-03-25T14:12:49.368217Z",
     "iopub.status.busy": "2025-03-25T14:12:49.367860Z",
     "iopub.status.idle": "2025-03-25T14:12:49.375247Z",
     "shell.execute_reply": "2025-03-25T14:12:49.374258Z"
    },
    "papermill": {
     "duration": 0.016285,
     "end_time": "2025-03-25T14:12:49.377006",
     "exception": false,
     "start_time": "2025-03-25T14:12:49.360721",
     "status": "completed"
    },
    "tags": []
   },
   "outputs": [
    {
     "data": {
      "text/plain": [
       "Name                0\n",
       "Email               0\n",
       "Product             0\n",
       "Transaction Date    0\n",
       "dtype: int64"
      ]
     },
     "execution_count": 5,
     "metadata": {},
     "output_type": "execute_result"
    }
   ],
   "source": [
    "df.isna().sum()"
   ]
  },
  {
   "cell_type": "markdown",
   "id": "001277f0",
   "metadata": {
    "papermill": {
     "duration": 0.006297,
     "end_time": "2025-03-25T14:12:49.390085",
     "exception": false,
     "start_time": "2025-03-25T14:12:49.383788",
     "status": "completed"
    },
    "tags": []
   },
   "source": [
    "Как видим пропущенных элементов нет. Теперь преобразуем колонну Transaction Date из типа object в тип datetime. Это нужно для того, чтобы извлечь часы из таблицы и узнать период, который охватывает эти данные"
   ]
  },
  {
   "cell_type": "code",
   "execution_count": 6,
   "id": "006c8e3c",
   "metadata": {
    "execution": {
     "iopub.execute_input": "2025-03-25T14:12:49.404483Z",
     "iopub.status.busy": "2025-03-25T14:12:49.404101Z",
     "iopub.status.idle": "2025-03-25T14:12:49.417521Z",
     "shell.execute_reply": "2025-03-25T14:12:49.416399Z"
    },
    "papermill": {
     "duration": 0.022829,
     "end_time": "2025-03-25T14:12:49.419552",
     "exception": false,
     "start_time": "2025-03-25T14:12:49.396723",
     "status": "completed"
    },
    "tags": []
   },
   "outputs": [],
   "source": [
    "df['DateTime'] = pd.to_datetime(df['Transaction Date'])\n",
    "df['Date'] = df['DateTime'].dt.date\n",
    "df['Hour'] = df['DateTime'].dt.hour"
   ]
  },
  {
   "cell_type": "markdown",
   "id": "3ef27160",
   "metadata": {
    "papermill": {
     "duration": 0.006601,
     "end_time": "2025-03-25T14:12:49.433232",
     "exception": false,
     "start_time": "2025-03-25T14:12:49.426631",
     "status": "completed"
    },
    "tags": []
   },
   "source": [
    "Проверямем результат"
   ]
  },
  {
   "cell_type": "code",
   "execution_count": 7,
   "id": "cd574821",
   "metadata": {
    "execution": {
     "iopub.execute_input": "2025-03-25T14:12:49.447378Z",
     "iopub.status.busy": "2025-03-25T14:12:49.446993Z",
     "iopub.status.idle": "2025-03-25T14:12:49.464343Z",
     "shell.execute_reply": "2025-03-25T14:12:49.463429Z"
    },
    "papermill": {
     "duration": 0.02615,
     "end_time": "2025-03-25T14:12:49.465745",
     "exception": false,
     "start_time": "2025-03-25T14:12:49.439595",
     "status": "completed"
    },
    "tags": []
   },
   "outputs": [
    {
     "data": {
      "text/html": [
       "<div>\n",
       "<style scoped>\n",
       "    .dataframe tbody tr th:only-of-type {\n",
       "        vertical-align: middle;\n",
       "    }\n",
       "\n",
       "    .dataframe tbody tr th {\n",
       "        vertical-align: top;\n",
       "    }\n",
       "\n",
       "    .dataframe thead th {\n",
       "        text-align: right;\n",
       "    }\n",
       "</style>\n",
       "<table border=\"1\" class=\"dataframe\">\n",
       "  <thead>\n",
       "    <tr style=\"text-align: right;\">\n",
       "      <th></th>\n",
       "      <th>Name</th>\n",
       "      <th>Email</th>\n",
       "      <th>Product</th>\n",
       "      <th>DateTime</th>\n",
       "      <th>Date</th>\n",
       "      <th>Hour</th>\n",
       "    </tr>\n",
       "  </thead>\n",
       "  <tbody>\n",
       "    <tr>\n",
       "      <th>0</th>\n",
       "      <td>PERSON_1</td>\n",
       "      <td>PERSON_1@gmail.com</td>\n",
       "      <td>PRODUCT_75</td>\n",
       "      <td>2021-01-03 00:47:26</td>\n",
       "      <td>2021-01-03</td>\n",
       "      <td>0</td>\n",
       "    </tr>\n",
       "    <tr>\n",
       "      <th>1</th>\n",
       "      <td>PERSON_2</td>\n",
       "      <td>PERSON_2@tataprojects.com</td>\n",
       "      <td>PRODUCT_75</td>\n",
       "      <td>2021-01-03 02:04:07</td>\n",
       "      <td>2021-01-03</td>\n",
       "      <td>2</td>\n",
       "    </tr>\n",
       "    <tr>\n",
       "      <th>2</th>\n",
       "      <td>PERSON_3</td>\n",
       "      <td>PERSON_3@gmail.com</td>\n",
       "      <td>PRODUCT_63</td>\n",
       "      <td>2021-01-03 09:10:43</td>\n",
       "      <td>2021-01-03</td>\n",
       "      <td>9</td>\n",
       "    </tr>\n",
       "    <tr>\n",
       "      <th>3</th>\n",
       "      <td>PERSON_4</td>\n",
       "      <td>PERSON_4@gmail.com</td>\n",
       "      <td>PRODUCT_63</td>\n",
       "      <td>2021-01-03 09:49:48</td>\n",
       "      <td>2021-01-03</td>\n",
       "      <td>9</td>\n",
       "    </tr>\n",
       "    <tr>\n",
       "      <th>4</th>\n",
       "      <td>PERSON_5</td>\n",
       "      <td>PERSON_5@gmail.com</td>\n",
       "      <td>PRODUCT_34,PRODUCT_86,PRODUCT_57,PRODUCT_89</td>\n",
       "      <td>2021-01-03 10:56:46</td>\n",
       "      <td>2021-01-03</td>\n",
       "      <td>10</td>\n",
       "    </tr>\n",
       "    <tr>\n",
       "      <th>5</th>\n",
       "      <td>PERSON_6</td>\n",
       "      <td>PERSON_6@gmail.com</td>\n",
       "      <td>PRODUCT_34,PRODUCT_66,PRODUCT_58,PRODUCT_83</td>\n",
       "      <td>2021-01-03 11:06:34</td>\n",
       "      <td>2021-01-03</td>\n",
       "      <td>11</td>\n",
       "    </tr>\n",
       "    <tr>\n",
       "      <th>6</th>\n",
       "      <td>PERSON_7</td>\n",
       "      <td>PERSON_7@gmail.com</td>\n",
       "      <td>PRODUCT_75</td>\n",
       "      <td>2021-01-03 12:02:00</td>\n",
       "      <td>2021-01-03</td>\n",
       "      <td>12</td>\n",
       "    </tr>\n",
       "    <tr>\n",
       "      <th>7</th>\n",
       "      <td>PERSON_8</td>\n",
       "      <td>PERSON_8@gmail.com</td>\n",
       "      <td>PRODUCT_63,PRODUCT_90,PRODUCT_27,PRODUCT_5</td>\n",
       "      <td>2021-01-03 12:31:10</td>\n",
       "      <td>2021-01-03</td>\n",
       "      <td>12</td>\n",
       "    </tr>\n",
       "    <tr>\n",
       "      <th>8</th>\n",
       "      <td>PERSON_9</td>\n",
       "      <td>PERSON_9@outlook.com</td>\n",
       "      <td>PRODUCT_26</td>\n",
       "      <td>2021-01-03 12:51:46</td>\n",
       "      <td>2021-01-03</td>\n",
       "      <td>12</td>\n",
       "    </tr>\n",
       "    <tr>\n",
       "      <th>9</th>\n",
       "      <td>PERSON_10</td>\n",
       "      <td>PERSON_10@gmail.com</td>\n",
       "      <td>PRODUCT_63</td>\n",
       "      <td>2021-01-03 12:52:29</td>\n",
       "      <td>2021-01-03</td>\n",
       "      <td>12</td>\n",
       "    </tr>\n",
       "    <tr>\n",
       "      <th>10</th>\n",
       "      <td>PERSON_11</td>\n",
       "      <td>PERSON_11@gmail.com</td>\n",
       "      <td>PRODUCT_63</td>\n",
       "      <td>2021-01-03 13:15:39</td>\n",
       "      <td>2021-01-03</td>\n",
       "      <td>13</td>\n",
       "    </tr>\n",
       "    <tr>\n",
       "      <th>11</th>\n",
       "      <td>PERSON_12</td>\n",
       "      <td>PERSON_12@gmail.com</td>\n",
       "      <td>PRODUCT_5,PRODUCT_34</td>\n",
       "      <td>2021-01-03 13:37:45</td>\n",
       "      <td>2021-01-03</td>\n",
       "      <td>13</td>\n",
       "    </tr>\n",
       "    <tr>\n",
       "      <th>12</th>\n",
       "      <td>PERSON_13</td>\n",
       "      <td>PERSON_13@gmail.com</td>\n",
       "      <td>PRODUCT_84,PRODUCT_27</td>\n",
       "      <td>2021-01-03 14:17:44</td>\n",
       "      <td>2021-01-03</td>\n",
       "      <td>14</td>\n",
       "    </tr>\n",
       "    <tr>\n",
       "      <th>13</th>\n",
       "      <td>PERSON_14</td>\n",
       "      <td>PERSON_14@gmail.com</td>\n",
       "      <td>PRODUCT_27</td>\n",
       "      <td>2021-01-03 14:27:49</td>\n",
       "      <td>2021-01-03</td>\n",
       "      <td>14</td>\n",
       "    </tr>\n",
       "    <tr>\n",
       "      <th>14</th>\n",
       "      <td>PERSON_15</td>\n",
       "      <td>PERSON_15@gmail.com</td>\n",
       "      <td>PRODUCT_25</td>\n",
       "      <td>2021-01-03 14:37:16</td>\n",
       "      <td>2021-01-03</td>\n",
       "      <td>14</td>\n",
       "    </tr>\n",
       "    <tr>\n",
       "      <th>15</th>\n",
       "      <td>PERSON_16</td>\n",
       "      <td>PERSON_16@gmail.com</td>\n",
       "      <td>PRODUCT_75</td>\n",
       "      <td>2021-01-03 14:56:02</td>\n",
       "      <td>2021-01-03</td>\n",
       "      <td>14</td>\n",
       "    </tr>\n",
       "    <tr>\n",
       "      <th>16</th>\n",
       "      <td>PERSON_17</td>\n",
       "      <td>PERSON_17@gmail.com</td>\n",
       "      <td>PRODUCT_84</td>\n",
       "      <td>2021-01-03 15:03:28</td>\n",
       "      <td>2021-01-03</td>\n",
       "      <td>15</td>\n",
       "    </tr>\n",
       "  </tbody>\n",
       "</table>\n",
       "</div>"
      ],
      "text/plain": [
       "         Name                      Email  \\\n",
       "0    PERSON_1         PERSON_1@gmail.com   \n",
       "1    PERSON_2  PERSON_2@tataprojects.com   \n",
       "2    PERSON_3         PERSON_3@gmail.com   \n",
       "3    PERSON_4         PERSON_4@gmail.com   \n",
       "4    PERSON_5         PERSON_5@gmail.com   \n",
       "5    PERSON_6         PERSON_6@gmail.com   \n",
       "6    PERSON_7         PERSON_7@gmail.com   \n",
       "7    PERSON_8         PERSON_8@gmail.com   \n",
       "8    PERSON_9       PERSON_9@outlook.com   \n",
       "9   PERSON_10        PERSON_10@gmail.com   \n",
       "10  PERSON_11        PERSON_11@gmail.com   \n",
       "11  PERSON_12        PERSON_12@gmail.com   \n",
       "12  PERSON_13        PERSON_13@gmail.com   \n",
       "13  PERSON_14        PERSON_14@gmail.com   \n",
       "14  PERSON_15        PERSON_15@gmail.com   \n",
       "15  PERSON_16        PERSON_16@gmail.com   \n",
       "16  PERSON_17        PERSON_17@gmail.com   \n",
       "\n",
       "                                        Product            DateTime  \\\n",
       "0                                    PRODUCT_75 2021-01-03 00:47:26   \n",
       "1                                    PRODUCT_75 2021-01-03 02:04:07   \n",
       "2                                    PRODUCT_63 2021-01-03 09:10:43   \n",
       "3                                    PRODUCT_63 2021-01-03 09:49:48   \n",
       "4   PRODUCT_34,PRODUCT_86,PRODUCT_57,PRODUCT_89 2021-01-03 10:56:46   \n",
       "5   PRODUCT_34,PRODUCT_66,PRODUCT_58,PRODUCT_83 2021-01-03 11:06:34   \n",
       "6                                    PRODUCT_75 2021-01-03 12:02:00   \n",
       "7    PRODUCT_63,PRODUCT_90,PRODUCT_27,PRODUCT_5 2021-01-03 12:31:10   \n",
       "8                                    PRODUCT_26 2021-01-03 12:51:46   \n",
       "9                                    PRODUCT_63 2021-01-03 12:52:29   \n",
       "10                                   PRODUCT_63 2021-01-03 13:15:39   \n",
       "11                         PRODUCT_5,PRODUCT_34 2021-01-03 13:37:45   \n",
       "12                        PRODUCT_84,PRODUCT_27 2021-01-03 14:17:44   \n",
       "13                                   PRODUCT_27 2021-01-03 14:27:49   \n",
       "14                                   PRODUCT_25 2021-01-03 14:37:16   \n",
       "15                                   PRODUCT_75 2021-01-03 14:56:02   \n",
       "16                                   PRODUCT_84 2021-01-03 15:03:28   \n",
       "\n",
       "          Date  Hour  \n",
       "0   2021-01-03     0  \n",
       "1   2021-01-03     2  \n",
       "2   2021-01-03     9  \n",
       "3   2021-01-03     9  \n",
       "4   2021-01-03    10  \n",
       "5   2021-01-03    11  \n",
       "6   2021-01-03    12  \n",
       "7   2021-01-03    12  \n",
       "8   2021-01-03    12  \n",
       "9   2021-01-03    12  \n",
       "10  2021-01-03    13  \n",
       "11  2021-01-03    13  \n",
       "12  2021-01-03    14  \n",
       "13  2021-01-03    14  \n",
       "14  2021-01-03    14  \n",
       "15  2021-01-03    14  \n",
       "16  2021-01-03    15  "
      ]
     },
     "execution_count": 7,
     "metadata": {},
     "output_type": "execute_result"
    }
   ],
   "source": [
    "df = df.drop(columns = 'Transaction Date')\n",
    "df.head(17)"
   ]
  },
  {
   "cell_type": "markdown",
   "id": "88a77aa5",
   "metadata": {
    "papermill": {
     "duration": 0.006451,
     "end_time": "2025-03-25T14:12:49.479130",
     "exception": false,
     "start_time": "2025-03-25T14:12:49.472679",
     "status": "completed"
    },
    "tags": []
   },
   "source": [
    "# Анализ данных"
   ]
  },
  {
   "cell_type": "markdown",
   "id": "bf8329a0",
   "metadata": {
    "papermill": {
     "duration": 0.007364,
     "end_time": "2025-03-25T14:12:49.493111",
     "exception": false,
     "start_time": "2025-03-25T14:12:49.485747",
     "status": "completed"
    },
    "tags": []
   },
   "source": [
    "Смотрим с какого по какое нам даны данные. В нашем случае данные охватывают период с 2021.01.03 (третьего января) по 2021.07.03(третье июля)"
   ]
  },
  {
   "cell_type": "code",
   "execution_count": 8,
   "id": "256e5f3b",
   "metadata": {
    "execution": {
     "iopub.execute_input": "2025-03-25T14:12:49.507761Z",
     "iopub.status.busy": "2025-03-25T14:12:49.507431Z",
     "iopub.status.idle": "2025-03-25T14:12:49.512845Z",
     "shell.execute_reply": "2025-03-25T14:12:49.511759Z"
    },
    "papermill": {
     "duration": 0.014577,
     "end_time": "2025-03-25T14:12:49.514356",
     "exception": false,
     "start_time": "2025-03-25T14:12:49.499779",
     "status": "completed"
    },
    "tags": []
   },
   "outputs": [
    {
     "name": "stdout",
     "output_type": "stream",
     "text": [
      "Data covers period from 2021-01-03 to 2021-07-03\n"
     ]
    }
   ],
   "source": [
    "start_date = df['Date'].min()\n",
    "end_date = df['Date'].max()\n",
    "print(f\"Data covers period from {start_date} to {end_date}\")"
   ]
  },
  {
   "cell_type": "markdown",
   "id": "9e9d87ba",
   "metadata": {
    "papermill": {
     "duration": 0.00652,
     "end_time": "2025-03-25T14:12:49.527692",
     "exception": false,
     "start_time": "2025-03-25T14:12:49.521172",
     "status": "completed"
    },
    "tags": []
   },
   "source": [
    "Теперь мы найдем самые загруженные часы. Для этого в колонне \"Hour\" посчитаем значения и присвоим индексы, для удобства превратим их список. Теперь мы можем посмотреть в какое время происходит наибольшее количество покупок"
   ]
  },
  {
   "cell_type": "code",
   "execution_count": 9,
   "id": "85c331cd",
   "metadata": {
    "execution": {
     "iopub.execute_input": "2025-03-25T14:12:49.542709Z",
     "iopub.status.busy": "2025-03-25T14:12:49.542391Z",
     "iopub.status.idle": "2025-03-25T14:12:49.551299Z",
     "shell.execute_reply": "2025-03-25T14:12:49.550182Z"
    },
    "papermill": {
     "duration": 0.018485,
     "end_time": "2025-03-25T14:12:49.552892",
     "exception": false,
     "start_time": "2025-03-25T14:12:49.534407",
     "status": "completed"
    },
    "tags": []
   },
   "outputs": [
    {
     "name": "stdout",
     "output_type": "stream",
     "text": [
      " Hour Of Day\tNumber of Purchases \n",
      "\n",
      "23\t\t51\n",
      "12\t\t51\n",
      "22\t\t45\n",
      "19\t\t42\n",
      "21\t\t41\n",
      "15\t\t41\n",
      "20\t\t39\n",
      "11\t\t37\n",
      "13\t\t33\n",
      "18\t\t33\n",
      "16\t\t29\n",
      "14\t\t28\n",
      "17\t\t27\n",
      "10\t\t24\n",
      "0\t\t17\n",
      "9\t\t14\n",
      "8\t\t10\n",
      "7\t\t6\n",
      "1\t\t4\n",
      "2\t\t3\n",
      "5\t\t3\n",
      "6\t\t2\n",
      "3\t\t1\n"
     ]
    }
   ],
   "source": [
    "timemost1 = df['Hour'].value_counts().index.tolist()[:24]\n",
    "timemost2 = df['Hour'].value_counts().values.tolist()[:24]\n",
    "tmost = np.column_stack((timemost1,timemost2))\n",
    "print(\" Hour Of Day\" + \"\\t\" + \"Number of Purchases \\n\")\n",
    "print('\\n'.join('\\t\\t'.join(map(str, row)) for row in tmost))"
   ]
  },
  {
   "cell_type": "markdown",
   "id": "4020523d",
   "metadata": {
    "papermill": {
     "duration": 0.006526,
     "end_time": "2025-03-25T14:12:49.566349",
     "exception": false,
     "start_time": "2025-03-25T14:12:49.559823",
     "status": "completed"
    },
    "tags": []
   },
   "source": [
    "Из этого списка мы можем сделать вывод, что чаще всего покупатели делают заказы в 23 и 12 часов и меньше всего в 3 часа. \n",
    "\n",
    "Для наглядности визуализируем распределение продаж по часам при помощи гистограммы"
   ]
  },
  {
   "cell_type": "code",
   "execution_count": 10,
   "id": "e6e6f3da",
   "metadata": {
    "execution": {
     "iopub.execute_input": "2025-03-25T14:12:49.581380Z",
     "iopub.status.busy": "2025-03-25T14:12:49.581000Z",
     "iopub.status.idle": "2025-03-25T14:12:49.921530Z",
     "shell.execute_reply": "2025-03-25T14:12:49.920528Z"
    },
    "papermill": {
     "duration": 0.3499,
     "end_time": "2025-03-25T14:12:49.923171",
     "exception": false,
     "start_time": "2025-03-25T14:12:49.573271",
     "status": "completed"
    },
    "tags": []
   },
   "outputs": [
    {
     "name": "stderr",
     "output_type": "stream",
     "text": [
      "/usr/local/lib/python3.10/dist-packages/seaborn/_oldcore.py:1119: FutureWarning: use_inf_as_na option is deprecated and will be removed in a future version. Convert inf values to NaN before operating instead.\n",
      "  with pd.option_context('mode.use_inf_as_na', True):\n"
     ]
    },
    {
     "data": {
      "image/png": "[encoded data removed]",
      "text/plain": [
       "<Figure size 1000x500 with 1 Axes>"
      ]
     },
     "metadata": {},
     "output_type": "display_data"
    }
   ],
   "source": [
    "plt.figure(figsize=(10, 5))\n",
    "sns.histplot(df[\"Hour\"], bins=24, kde=True, color=\"blue\")\n",
    "plt.title(\"Sales Distribution by Hour\")\n",
    "plt.xlabel(\"Hour of the Day\")\n",
    "plt.ylabel(\"Number of Purchases\")\n",
    "plt.show()"
   ]
  },
  {
   "cell_type": "markdown",
   "id": "7bc3e276",
   "metadata": {
    "papermill": {
     "duration": 0.007651,
     "end_time": "2025-03-25T14:12:49.938815",
     "exception": false,
     "start_time": "2025-03-25T14:12:49.931164",
     "status": "completed"
    },
    "tags": []
   },
   "source": [
    "Проверим распределение продаж по месяцам"
   ]
  },
  {
   "cell_type": "code",
   "execution_count": 11,
   "id": "3508f9de",
   "metadata": {
    "execution": {
     "iopub.execute_input": "2025-03-25T14:12:49.955126Z",
     "iopub.status.busy": "2025-03-25T14:12:49.954809Z",
     "iopub.status.idle": "2025-03-25T14:12:50.258812Z",
     "shell.execute_reply": "2025-03-25T14:12:50.257842Z"
    },
    "papermill": {
     "duration": 0.314199,
     "end_time": "2025-03-25T14:12:50.260588",
     "exception": false,
     "start_time": "2025-03-25T14:12:49.946389",
     "status": "completed"
    },
    "tags": []
   },
   "outputs": [
    {
     "data": {
      "image/png": "[encoded data removed]",
      "text/plain": [
       "<Figure size 1200x500 with 1 Axes>"
      ]
     },
     "metadata": {},
     "output_type": "display_data"
    }
   ],
   "source": [
    "plt.figure(figsize=(12,5))\n",
    "sales_month = df['Date'].value_counts().sort_index()\n",
    "sales_month.plot(kind = 'line', marker = 'o', color = \"blue\")\n",
    "plt.title(\"Sales Trend Over Time\")\n",
    "plt.xticks(rotation = 45)\n",
    "plt.xlabel(\"Date\")\n",
    "plt.ylabel(\"Number of Sales\")\n",
    "plt.show()"
   ]
  },
  {
   "cell_type": "markdown",
   "id": "e6468633",
   "metadata": {
    "papermill": {
     "duration": 0.008209,
     "end_time": "2025-03-25T14:12:50.277493",
     "exception": false,
     "start_time": "2025-03-25T14:12:50.269284",
     "status": "completed"
    },
    "tags": []
   },
   "source": [
    "Мы можем заметить как продажи увеличились со 2-го по 3-ий месяц почти в 3 раза, потом упали до 70 с 3-го по 5-ый месяц и вновь поднялись с 5-го по 7-ой. Мы можем рассчитать процентное изменение в эти периоды. Для этого мы используем формулу:\n",
    "> **Percentage Increase Formula:**\n",
    "$$\n",
    "\\text{Percentage Increase} = \\left(\\frac{\\text{New Value} - \\text{Old Value}}{\\text{Old Value}}\\right) \\times 100\\%\n",
    "$$\n",
    "Теперь посчитаем изменения в процентах с 40 до 120:\n",
    "$$\n",
    "\\left(\\frac{120 - 40}{40}\\right) \\times 100 = \\left(\\frac{80}{40}\\right) \\times 100 = 200\\%\n",
    "$$\n",
    "Теперь с 120 до 70:\n",
    "$$\n",
    "\\left(\\frac{70 - 120}{120}\\right) \\times 100 = \\left(\\frac{-50}{120}\\right) \\times 100 \\approx -41.67\\%\n",
    "$$\n",
    "И с 70 до 140:\n",
    "$$\n",
    "\\left(\\frac{140 - 70}{70}\\right) \\times 100 = \\left(\\frac{70}{70}\\right) \\times 100 = 100\\%\n",
    "$$\n",
    "\n",
    "Таким образом мы узнали, что продажи сначала увеличились на **200%** потом уменьшились на **41.76%** и увеличились на **100%**\n",
    "\n"
   ]
  },
  {
   "cell_type": "markdown",
   "id": "eb72fa7b",
   "metadata": {
    "papermill": {
     "duration": 0.008138,
     "end_time": "2025-03-25T14:12:50.293890",
     "exception": false,
     "start_time": "2025-03-25T14:12:50.285752",
     "status": "completed"
    },
    "tags": []
   },
   "source": [
    "Теперь узнаем какие продукты являются самыми популярными и не популярными среди пользователей. Для этого сначала преобразуем строку и укажем запятую как разделитель. Теперь посчитаем сколько раз был заказан каждый товар, выделим среди них 10 самыйх часто заказываемых и редко заказываемых. Для вывода используем столбчатую диаграмму\n"
   ]
  },
  {
   "cell_type": "code",
   "execution_count": 12,
   "id": "56e8a87d",
   "metadata": {
    "execution": {
     "iopub.execute_input": "2025-03-25T14:12:50.311691Z",
     "iopub.status.busy": "2025-03-25T14:12:50.311352Z",
     "iopub.status.idle": "2025-03-25T14:12:50.532052Z",
     "shell.execute_reply": "2025-03-25T14:12:50.531067Z"
    },
    "papermill": {
     "duration": 0.231655,
     "end_time": "2025-03-25T14:12:50.533744",
     "exception": false,
     "start_time": "2025-03-25T14:12:50.302089",
     "status": "completed"
    },
    "tags": []
   },
   "outputs": [
    {
     "data": {
      "image/png": "[encoded data removed]",
      "text/plain": [
       "<Figure size 1000x500 with 1 Axes>"
      ]
     },
     "metadata": {},
     "output_type": "display_data"
    }
   ],
   "source": [
    "all_products = df[\"Product\"].str.split(\",\").explode()\n",
    "popular_products = all_products.value_counts()\n",
    "plt.figure(figsize=(10, 5))\n",
    "popular_products.head(10).plot(kind=\"bar\", color=\"skyblue\")\n",
    "plt.title(\"Top 10 Most Popular Products\")\n",
    "plt.xlabel(\"Product\")\n",
    "plt.ylabel(\"Count\")\n",
    "plt.xticks(rotation=45)\n",
    "plt.show()"
   ]
  },
  {
   "cell_type": "code",
   "execution_count": 13,
   "id": "c0207675",
   "metadata": {
    "execution": {
     "iopub.execute_input": "2025-03-25T14:12:50.553452Z",
     "iopub.status.busy": "2025-03-25T14:12:50.553059Z",
     "iopub.status.idle": "2025-03-25T14:12:50.784790Z",
     "shell.execute_reply": "2025-03-25T14:12:50.783857Z"
    },
    "papermill": {
     "duration": 0.243118,
     "end_time": "2025-03-25T14:12:50.786236",
     "exception": false,
     "start_time": "2025-03-25T14:12:50.543118",
     "status": "completed"
    },
    "tags": []
   },
   "outputs": [
    {
     "data": {
      "image/png": "[encoded data removed]",
      "text/plain": [
       "<Figure size 1000x500 with 1 Axes>"
      ]
     },
     "metadata": {},
     "output_type": "display_data"
    }
   ],
   "source": [
    "all_products = df[\"Product\"].str.split(\",\").explode()\n",
    "popular_products = all_products.value_counts()\n",
    "plt.figure(figsize=(10, 5))\n",
    "popular_products.tail(10).plot(kind=\"bar\", color=\"Orange\")\n",
    "plt.title(\"Top 10 Least Popular Products\")\n",
    "plt.xlabel(\"Product\")\n",
    "plt.ylabel(\"Count\")\n",
    "plt.xticks(rotation=45)\n",
    "plt.show()"
   ]
  },
  {
   "cell_type": "markdown",
   "id": "410d1a98",
   "metadata": {
    "papermill": {
     "duration": 0.010108,
     "end_time": "2025-03-25T14:12:50.807083",
     "exception": false,
     "start_time": "2025-03-25T14:12:50.796975",
     "status": "completed"
    },
    "tags": []
   },
   "source": [
    "На графике мы можем заметить, что PRODUCT_75 является самым популярным продуктом среди пользователей. Его заказали около 120 раз. Вторым по популярности является продукт PRODUCT_63, который был заказан около 100 раз. В это же время самыми не популярными продуктами являются PRODUCT_13, PRODUCT_67, PRODUCT_73, PRODUCT_82, PRODUCT_45, PRODUCT_93 и PRODUCT_17. За все время их заказали всего по одному разу."
   ]
  },
  {
   "cell_type": "markdown",
   "id": "aa4b2399",
   "metadata": {
    "papermill": {
     "duration": 0.009401,
     "end_time": "2025-03-25T14:12:50.826413",
     "exception": false,
     "start_time": "2025-03-25T14:12:50.817012",
     "status": "completed"
    },
    "tags": []
   },
   "source": [
    "Узнаем самые популярные пары продкутов, которые заказывают пользователи. Для этого используем библиотеки itertools и collections. После разделим списки товаров и подсчитаем частоты пар товаров. Теперь выведем топ-10 самых популярных пар."
   ]
  },
  {
   "cell_type": "code",
   "execution_count": 14,
   "id": "fd11de6f",
   "metadata": {
    "execution": {
     "iopub.execute_input": "2025-03-25T14:12:50.846780Z",
     "iopub.status.busy": "2025-03-25T14:12:50.846432Z",
     "iopub.status.idle": "2025-03-25T14:12:50.855519Z",
     "shell.execute_reply": "2025-03-25T14:12:50.854484Z"
    },
    "papermill": {
     "duration": 0.020981,
     "end_time": "2025-03-25T14:12:50.856902",
     "exception": false,
     "start_time": "2025-03-25T14:12:50.835921",
     "status": "completed"
    },
    "tags": []
   },
   "outputs": [
    {
     "name": "stdout",
     "output_type": "stream",
     "text": [
      "Top 10 Most Common Product Pairs\n",
      "[(('PRODUCT_27', 'PRODUCT_63'), 28), (('PRODUCT_68', 'PRODUCT_75'), 20), (('PRODUCT_12', 'PRODUCT_85'), 17), (('PRODUCT_63', 'PRODUCT_75'), 16), (('PRODUCT_12', 'PRODUCT_55'), 15), (('PRODUCT_34', 'PRODUCT_66'), 14), (('PRODUCT_12', 'PRODUCT_61'), 14), (('PRODUCT_12', 'PRODUCT_62'), 14), (('PRODUCT_28', 'PRODUCT_61'), 14), (('PRODUCT_49', 'PRODUCT_85'), 14)]\n"
     ]
    }
   ],
   "source": [
    "from itertools import combinations\n",
    "from collections import Counter\n",
    "\n",
    "basket = df[\"Product\"].apply(lambda x: x.split(\",\"))\n",
    "combination_counts = Counter()\n",
    "for products in basket:\n",
    "    combination_counts.update(combinations(sorted(products), 2))\n",
    "most_common_combinations = combination_counts.most_common(10)\n",
    "print(\"Top 10 Most Common Product Pairs\")\n",
    "print(most_common_combinations)"
   ]
  },
  {
   "cell_type": "markdown",
   "id": "0aa140dd",
   "metadata": {
    "papermill": {
     "duration": 0.009365,
     "end_time": "2025-03-25T14:12:50.876060",
     "exception": false,
     "start_time": "2025-03-25T14:12:50.866695",
     "status": "completed"
    },
    "tags": []
   },
   "source": [
    "Для упрощения понимания создадим столбчатую диаграмму и покажем топ-10 популярных пар"
   ]
  },
  {
   "cell_type": "code",
   "execution_count": 15,
   "id": "046b732f",
   "metadata": {
    "execution": {
     "iopub.execute_input": "2025-03-25T14:12:50.896504Z",
     "iopub.status.busy": "2025-03-25T14:12:50.896190Z",
     "iopub.status.idle": "2025-03-25T14:12:51.142919Z",
     "shell.execute_reply": "2025-03-25T14:12:51.141961Z"
    },
    "papermill": {
     "duration": 0.258862,
     "end_time": "2025-03-25T14:12:51.144543",
     "exception": false,
     "start_time": "2025-03-25T14:12:50.885681",
     "status": "completed"
    },
    "tags": []
   },
   "outputs": [
    {
     "name": "stderr",
     "output_type": "stream",
     "text": [
      "/usr/local/lib/python3.10/dist-packages/seaborn/_oldcore.py:1765: FutureWarning: unique with argument that is not not a Series, Index, ExtensionArray, or np.ndarray is deprecated and will raise in a future version.\n",
      "  order = pd.unique(vector)\n"
     ]
    },
    {
     "data": {
      "image/png": "[encoded data removed]",
      "text/plain": [
       "<Figure size 1200x600 with 1 Axes>"
      ]
     },
     "metadata": {},
     "output_type": "display_data"
    }
   ],
   "source": [
    "pairs, counts = zip(*most_common_combinations)\n",
    "labels = [f\"{p1} & {p2}\" for p1, p2 in pairs]\n",
    "plt.figure(figsize=(12, 6))\n",
    "sns.barplot(x=list(counts), y=labels, palette=\"viridis\")\n",
    "plt.xlabel(\"Number of Occurrences\")\n",
    "plt.ylabel(\"Product Pairs\")\n",
    "plt.title(\"Top 10 Most Commonly Bought Together Products\")\n",
    "plt.show()"
   ]
  },
  {
   "cell_type": "markdown",
   "id": "46d82b56",
   "metadata": {
    "papermill": {
     "duration": 0.010676,
     "end_time": "2025-03-25T14:12:51.166913",
     "exception": false,
     "start_time": "2025-03-25T14:12:51.156237",
     "status": "completed"
    },
    "tags": []
   },
   "source": [
    "Смотря на график становится понятно, что люди чаще всего покупают в паре продукты PRODUCT_27 и PRODUCT_63. Следующей парой по популярности идет пара PRODUCT_68 и PRODUCT_75."
   ]
  },
  {
   "cell_type": "markdown",
   "id": "ef7b4d07",
   "metadata": {
    "papermill": {
     "duration": 0.01058,
     "end_time": "2025-03-25T14:12:51.188399",
     "exception": false,
     "start_time": "2025-03-25T14:12:51.177819",
     "status": "completed"
    },
    "tags": []
   },
   "source": [
    "# Выводы"
   ]
  },
  {
   "cell_type": "markdown",
   "id": "b25b8a21",
   "metadata": {
    "papermill": {
     "duration": 0.010595,
     "end_time": "2025-03-25T14:12:51.209945",
     "exception": false,
     "start_time": "2025-03-25T14:12:51.199350",
     "status": "completed"
    },
    "tags": []
   },
   "source": [
    "1. Период данных\n",
    "\n",
    "       Исследуемые данные охватывают с 3 января 2021 года по 3 июля 2021 года.\n",
    "\n",
    "\n",
    "2. Активность пользователей\n",
    "\n",
    "       Наибольшее количество покупок совершается в 23:00 и 12:00.\n",
    "       Наименьшее число заказов наблюдается в 3:00 ночи.\n",
    "\n",
    "\n",
    "3. Динамика продаж\n",
    "\n",
    "       Продажи выросли в 3 раза со 2-го по 3-й месяц.\n",
    "       Затем они упали на 41.76% с 3-го по 5-й месяц.\n",
    "       С 5-го по 7-й месяц продажи снова выросли на 100%.\n",
    "\n",
    "\n",
    "4. Популярные и непопулярные товары\n",
    "\n",
    "       PRODUCT_75 – самый популярный товар (≈120 продаж).\n",
    "       PRODUCT_63 – второй по популярности (≈100 продаж).\n",
    "       PRODUCT_13, PRODUCT_67, PRODUCT_73, PRODUCT_82, PRODUCT_45, PRODUCT_93 и PRODUCT_17 – наименее популярные товары (заказаны всего по 1 разу).\n",
    "\n",
    "\n",
    "5. Часто покупаемые вместе товары\n",
    "\n",
    "       Самая популярная пара товаров – PRODUCT_27 и PRODUCT_63.\n",
    "       Вторая по популярности пара – PRODUCT_68 и PRODUCT_75."
   ]
  }
 ],
 "metadata": {
  "kaggle": {
   "accelerator": "none",
   "dataSources": [
    {
     "datasetId": 6901870,
     "sourceId": 11074607,
     "sourceType": "datasetVersion"
    }
   ],
   "dockerImageVersionId": 30918,
   "isGpuEnabled": false,
   "isInternetEnabled": true,
   "language": "python",
   "sourceType": "notebook"
  },
  "kernelspec": {
   "display_name": "Python 3",
   "language": "python",
   "name": "python3"
  },
  "language_info": {
   "codemirror_mode": {
    "name": "ipython",
    "version": 3
   },
   "file_extension": ".py",
   "mimetype": "text/x-python",
   "name": "python",
   "nbconvert_exporter": "python",
   "pygments_lexer": "ipython3",
   "version": "3.10.12"
  },
  "papermill": {
   "default_parameters": {},
   "duration": 7.611291,
   "end_time": "2025-03-25T14:12:51.839791",
   "environment_variables": {},
   "exception": null,
   "input_path": "__notebook__.ipynb",
   "output_path": "__notebook__.ipynb",
   "parameters": {},
   "start_time": "2025-03-25T14:12:44.228500",
   "version": "2.6.0"
  }
 },
 "nbformat": 4,
 "nbformat_minor": 5
}
